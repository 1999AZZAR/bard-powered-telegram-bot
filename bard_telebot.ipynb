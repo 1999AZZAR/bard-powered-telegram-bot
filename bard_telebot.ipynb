{
  "nbformat": 4,
  "nbformat_minor": 0,
  "metadata": {
    "colab": {
      "provenance": [],
      "collapsed_sections": [
        "t7XqFD0MHuH3",
        "XhiqyhX0XLZ8",
        "Om1S13ygXmnz",
        "HyOvjj_1X9Fy"
      ],
      "mount_file_id": "https://github.com/1999AZZAR/bard-powered-telegram-bot/blob/ayaka-mori/bard_telebot.ipynb",
      "authorship_tag": "ABX9TyO4+XC8tSycklf0NkjrQkWL",
      "include_colab_link": true
    },
    "kernelspec": {
      "name": "python3",
      "display_name": "Python 3"
    },
    "language_info": {
      "name": "python"
    }
  },
  "cells": [
    {
      "cell_type": "markdown",
      "metadata": {
        "id": "view-in-github",
        "colab_type": "text"
      },
      "source": [
        "<a href=\"https://colab.research.google.com/github/1999AZZAR/bard-powered-telegram-bot/blob/ayaka-mori/bard_telebot.ipynb\" target=\"_parent\"><img src=\"https://colab.research.google.com/assets/colab-badge.svg\" alt=\"Open In Colab\"/></a>"
      ]
    },
    {
      "cell_type": "markdown",
      "source": [
        "To begin, you should download the GitHub repository. This step is crucial as it provides the necessary files for your project. Once you have successfully obtained the repository, follow the next steps to upload the essential files to the runtime environment.\n",
        "\n",
        "1. **Download the GitHub Repo**:\n",
        "   - Visit the GitHub repository page of [this project.](https://github.com/1999AZZAR/bard-powered-telegram-bot)\n",
        "   - Look for the \"Code\" button and click on it.\n",
        "   - You can either download the ZIP file or use Git to clone the repository, depending on your preference. Make sure you have Git installed if you choose the latter option.\n",
        "\n",
        "2. **Upload Files to Runtime**:\n",
        "   - After downloading the repository, access your runtime environment.\n",
        "   - Look for the \"Files\" section or a similar option that allows you to manage your project's files.\n",
        "   - Navigate to the location where you want to upload the files.\n",
        "\n",
        "3. **Select and Upload Files**:\n",
        "   - In the runtime environment, locate the \"Upload to Session Storage\" or a similar option.\n",
        "   - Click on it to open the file selection dialog.\n",
        "   - From your local machine, select the 'main.py' and 'requirements.txt' files that you obtained from the GitHub repository.\n",
        "   - Confirm the selection and proceed with the upload.\n",
        "\n",
        "By following these steps, you'll have successfully downloaded the GitHub repository and uploaded the 'main.py' and 'requirements.txt' files to your runtime environment, ensuring that you have the necessary resources for this project."
      ],
      "metadata": {
        "id": "ILcfrLuBFMat"
      }
    },
    {
      "cell_type": "markdown",
      "source": [
        "# running the bot"
      ],
      "metadata": {
        "id": "t7XqFD0MHuH3"
      }
    },
    {
      "cell_type": "markdown",
      "source": [
        "## 1. **installing the requirements**"
      ],
      "metadata": {
        "id": "XhiqyhX0XLZ8"
      }
    },
    {
      "cell_type": "code",
      "execution_count": null,
      "metadata": {
        "id": "I9fVk0etWkG8"
      },
      "outputs": [],
      "source": [
        "!pip install -r requirements.txt"
      ]
    },
    {
      "cell_type": "markdown",
      "source": [
        "## 2. **Set Up Environment Variables**"
      ],
      "metadata": {
        "id": "Om1S13ygXmnz"
      }
    },
    {
      "cell_type": "code",
      "source": [
        "import os\n",
        "\n",
        "os.environ['TELEGRAM_BOT_TOKEN'] = 'YOUR_BOT_TOKEN'\n",
        "os.environ['Secure_1PSID'] = 'YOUR_Secure_1PSID'\n",
        "os.environ['Secure_1PSIDTS'] = 'YOUR_Secure_1PSIDTS'\n",
        "os.environ['USER_ID'] = 'ALLOWED_USER_IDS_COMMA_SEPARATED'"
      ],
      "metadata": {
        "id": "MMhN7VidXlH0"
      },
      "execution_count": null,
      "outputs": []
    },
    {
      "cell_type": "markdown",
      "source": [
        "## 3. **running the bot**"
      ],
      "metadata": {
        "id": "HyOvjj_1X9Fy"
      }
    },
    {
      "cell_type": "code",
      "source": [
        "!python main.py"
      ],
      "metadata": {
        "id": "eKq9UMLjX8Eu"
      },
      "execution_count": null,
      "outputs": []
    }
  ]
}