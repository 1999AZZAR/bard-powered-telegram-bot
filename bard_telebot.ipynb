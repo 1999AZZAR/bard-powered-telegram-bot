{
  "nbformat": 4,
  "nbformat_minor": 0,
  "metadata": {
    "colab": {
      "provenance": [],
      "collapsed_sections": [
        "XhiqyhX0XLZ8",
        "Om1S13ygXmnz",
        "HyOvjj_1X9Fy"
      ],
      "authorship_tag": "ABX9TyPPhYnxIaOwsJRXZLc1yLzy",
      "include_colab_link": true
    },
    "kernelspec": {
      "name": "python3",
      "display_name": "Python 3"
    },
    "language_info": {
      "name": "python"
    }
  },
  "cells": [
    {
      "cell_type": "markdown",
      "metadata": {
        "id": "view-in-github",
        "colab_type": "text"
      },
      "source": [
        "<a href=\"https://colab.research.google.com/github/1999AZZAR/bard-powered-telegram-bot/blob/ayaka-mori/bard_telebot.ipynb\" target=\"_parent\"><img src=\"https://colab.research.google.com/assets/colab-badge.svg\" alt=\"Open In Colab\"/></a>"
      ]
    },
    {
      "cell_type": "markdown",
      "source": [
        "## 1. **installing the requirements**"
      ],
      "metadata": {
        "id": "XhiqyhX0XLZ8"
      }
    },
    {
      "cell_type": "code",
      "execution_count": null,
      "metadata": {
        "id": "I9fVk0etWkG8"
      },
      "outputs": [],
      "source": [
        "!pip install -r requirements.txt"
      ]
    },
    {
      "cell_type": "markdown",
      "source": [
        "## 2. **Set Up Environment Variables**"
      ],
      "metadata": {
        "id": "Om1S13ygXmnz"
      }
    },
    {
      "cell_type": "code",
      "source": [
        "import os\n",
        "\n",
        "os.environ['TELEGRAM_BOT_TOKEN'] = 'YOUR_BOT_TOKEN'\n",
        "os.environ['Secure_1PSID'] = 'YOUR_Secure_1PSID'\n",
        "os.environ['Secure_1PSIDTS'] = 'YOUR_Secure_1PSIDTS'\n",
        "os.environ['USER_ID'] = 'ALLOWED_USER_IDS_COMMA_SEPARATED'"
      ],
      "metadata": {
        "id": "MMhN7VidXlH0"
      },
      "execution_count": 10,
      "outputs": []
    },
    {
      "cell_type": "markdown",
      "source": [
        "## 3. **running the bot**"
      ],
      "metadata": {
        "id": "HyOvjj_1X9Fy"
      }
    },
    {
      "cell_type": "code",
      "source": [
        "!python main.py"
      ],
      "metadata": {
        "id": "eKq9UMLjX8Eu"
      },
      "execution_count": null,
      "outputs": []
    }
  ]
}