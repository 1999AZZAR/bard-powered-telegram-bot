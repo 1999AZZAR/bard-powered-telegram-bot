{
  "nbformat": 4,
  "nbformat_minor": 0,
  "metadata": {
    "colab": {
      "provenance": [],
      "authorship_tag": "ABX9TyMzEf+JAPv0bQun8xOqBQ1T",
      "include_colab_link": true
    },
    "kernelspec": {
      "name": "python3",
      "display_name": "Python 3"
    },
    "language_info": {
      "name": "python"
    }
  },
  "cells": [
    {
      "cell_type": "markdown",
      "metadata": {
        "id": "view-in-github",
        "colab_type": "text"
      },
      "source": [
        "<a href=\"https://colab.research.google.com/github/1999AZZAR/bard-powered-telegram-bot/blob/ayaka-mori/bard_telebot.ipynb\" target=\"_parent\"><img src=\"https://colab.research.google.com/assets/colab-badge.svg\" alt=\"Open In Colab\"/></a>"
      ]
    },
    {
      "cell_type": "markdown",
      "source": [
        "installing the requirements"
      ],
      "metadata": {
        "id": "XhiqyhX0XLZ8"
      }
    },
    {
      "cell_type": "code",
      "execution_count": null,
      "metadata": {
        "id": "I9fVk0etWkG8"
      },
      "outputs": [],
      "source": [
        "!pip install -r requirements.txt"
      ]
    },
    {
      "cell_type": "markdown",
      "source": [
        "Set Up Environment Variables: In Colab, you can set environment variables directly in the notebook. Replace the placeholders in your code (e.g., 'YOUR_TELEGRAM_BOT_TOKEN') with your actual values. You can set these environment variables using the following code in your Colab notebook:"
      ],
      "metadata": {
        "id": "Om1S13ygXmnz"
      }
    },
    {
      "cell_type": "code",
      "source": [
        "import os\n",
        "\n",
        "os.environ['TELEGRAM_BOT_TOKEN'] = 'YOUR_BOT_TOKEN'\n",
        "os.environ['Secure_1PSID'] = 'YOUR_Secure_1PSID'\n",
        "os.environ['Secure_1PSIDTS'] = 'YOUR_Secure_1PSIDTS'\n",
        "os.environ['USER_ID'] = 'ALLOWED_USER_IDS_COMMA_SEPARATED'"
      ],
      "metadata": {
        "id": "MMhN7VidXlH0"
      },
      "execution_count": 10,
      "outputs": []
    },
    {
      "cell_type": "markdown",
      "source": [
        "running the bot"
      ],
      "metadata": {
        "id": "HyOvjj_1X9Fy"
      }
    },
    {
      "cell_type": "code",
      "source": [
        "!python main.py"
      ],
      "metadata": {
        "id": "eKq9UMLjX8Eu"
      },
      "execution_count": null,
      "outputs": []
    }
  ]
}